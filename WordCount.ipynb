{
 "cells": [
  {
   "cell_type": "code",
   "execution_count": 5,
   "id": "d5dbee0e",
   "metadata": {},
   "outputs": [],
   "source": [
    "from pyspark.sql import SparkSession\n",
    "from pyspark.sql.functions import desc"
   ]
  },
  {
   "cell_type": "code",
   "execution_count": 18,
   "id": "6709ef8b",
   "metadata": {},
   "outputs": [],
   "source": [
    "spark = SparkSession.builder.appName(\"DDemo\").getOrCreate()\n",
    "df = spark.read.text(\"./data.txt\")"
   ]
  },
  {
   "cell_type": "code",
   "execution_count": 31,
   "id": "08ee588f",
   "metadata": {},
   "outputs": [
    {
     "name": "stdout",
     "output_type": "stream",
     "text": [
      "+-----------+-----+\n",
      "|       word|count|\n",
      "+-----------+-----+\n",
      "|          a|    2|\n",
      "|       will|    1|\n",
      "|         in|    1|\n",
      "|     create|    1|\n",
      "|       each|    1|\n",
      "|   approach|    1|\n",
      "|  DataFrame|    1|\n",
      "|       file|    1|\n",
      "|        the|    1|\n",
      "|      where|    1|\n",
      "|       This|    1|\n",
      "|       text|    1|\n",
      "|corresponds|    1|\n",
      "|       line|    1|\n",
      "|        row|    1|\n",
      "|         to|    1|\n",
      "+-----------+-----+\n",
      "\n"
     ]
    }
   ],
   "source": [
    "result_df = df.selectExpr(\"explode(split(value,' ')) as word\").groupBy(\"word\").count().orderBy(desc(\"count\"))\n",
    "result_df.show()"
   ]
  },
  {
   "cell_type": "code",
   "execution_count": null,
   "id": "a430e855",
   "metadata": {},
   "outputs": [],
   "source": [
    "\n",
    "\n"
   ]
  },
  {
   "cell_type": "code",
   "execution_count": null,
   "id": "52e04d5f",
   "metadata": {},
   "outputs": [],
   "source": []
  },
  {
   "cell_type": "code",
   "execution_count": null,
   "id": "cf5a7486",
   "metadata": {},
   "outputs": [],
   "source": []
  }
 ],
 "metadata": {
  "kernelspec": {
   "display_name": "Python 3 (ipykernel)",
   "language": "python",
   "name": "python3"
  },
  "language_info": {
   "codemirror_mode": {
    "name": "ipython",
    "version": 3
   },
   "file_extension": ".py",
   "mimetype": "text/x-python",
   "name": "python",
   "nbconvert_exporter": "python",
   "pygments_lexer": "ipython3",
   "version": "3.11.5"
  }
 },
 "nbformat": 4,
 "nbformat_minor": 5
}
