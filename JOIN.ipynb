{
 "cells": [
  {
   "cell_type": "code",
   "execution_count": 1,
   "id": "e815ec38",
   "metadata": {},
   "outputs": [],
   "source": [
    "from pyspark.sql import SparkSession"
   ]
  },
  {
   "cell_type": "code",
   "execution_count": 4,
   "id": "0e7eca33",
   "metadata": {},
   "outputs": [],
   "source": [
    "from pyspark.sql.types import StructType, StructField, IntegerType, StringType"
   ]
  },
  {
   "cell_type": "code",
   "execution_count": 6,
   "id": "06c4ba77",
   "metadata": {},
   "outputs": [],
   "source": [
    "data = [\n",
    "    (1,'joe'),\n",
    "    (2,'Henry'),\n",
    "    (3,'max'),\n",
    "    (4,'eric'),\n",
    "    (5,'earth'),\n",
    "    (6,'nick')    \n",
    "]"
   ]
  },
  {
   "cell_type": "code",
   "execution_count": 7,
   "id": "0e1aa6bc",
   "metadata": {},
   "outputs": [],
   "source": [
    "schema = StructType([\n",
    "    StructField('Id',IntegerType(),True),\n",
    "    StructField('Name',StringType(),True)\n",
    "\n",
    "])"
   ]
  },
  {
   "cell_type": "code",
   "execution_count": 9,
   "id": "48a3057a",
   "metadata": {},
   "outputs": [],
   "source": [
    "spark = SparkSession.builder.master('local').appName('joining').getOrCreate()"
   ]
  },
  {
   "cell_type": "code",
   "execution_count": 10,
   "id": "d4d42e4c",
   "metadata": {},
   "outputs": [],
   "source": [
    "df = spark.createDataFrame(data = data, schema = schema)"
   ]
  },
  {
   "cell_type": "code",
   "execution_count": 11,
   "id": "4d496169",
   "metadata": {},
   "outputs": [
    {
     "name": "stdout",
     "output_type": "stream",
     "text": [
      "+---+-----+\n",
      "| Id| Name|\n",
      "+---+-----+\n",
      "|  1|  joe|\n",
      "|  2|Henry|\n",
      "|  3|  max|\n",
      "|  4| eric|\n",
      "|  5|earth|\n",
      "|  6| nick|\n",
      "+---+-----+\n",
      "\n"
     ]
    }
   ],
   "source": [
    "df.show()"
   ]
  },
  {
   "cell_type": "code",
   "execution_count": 13,
   "id": "599a8820",
   "metadata": {},
   "outputs": [],
   "source": [
    "Df2Schema  = StructType([\n",
    "    StructField('ID', IntegerType(),True),\n",
    "    StructField('CustomerID', IntegerType(),True)\n",
    "])"
   ]
  },
  {
   "cell_type": "code",
   "execution_count": 14,
   "id": "f76e341b",
   "metadata": {},
   "outputs": [],
   "source": [
    "Df2Data = [(1,3),(2,1)]"
   ]
  },
  {
   "cell_type": "code",
   "execution_count": 15,
   "id": "d58a29ac",
   "metadata": {},
   "outputs": [],
   "source": [
    "df2 = spark.createDataFrame(data = Df2Data, schema = Df2Schema )"
   ]
  },
  {
   "cell_type": "code",
   "execution_count": 16,
   "id": "df620458",
   "metadata": {},
   "outputs": [
    {
     "name": "stdout",
     "output_type": "stream",
     "text": [
      "+---+----------+\n",
      "| ID|CustomerID|\n",
      "+---+----------+\n",
      "|  1|         3|\n",
      "|  2|         1|\n",
      "+---+----------+\n",
      "\n"
     ]
    }
   ],
   "source": [
    "df2.show()"
   ]
  },
  {
   "cell_type": "code",
   "execution_count": 19,
   "id": "a4d9f636",
   "metadata": {},
   "outputs": [
    {
     "name": "stdout",
     "output_type": "stream",
     "text": [
      "+-----+\n",
      "| name|\n",
      "+-----+\n",
      "| nick|\n",
      "|earth|\n",
      "| eric|\n",
      "|Henry|\n",
      "+-----+\n",
      "\n"
     ]
    }
   ],
   "source": [
    "df.join(df2,df['Id'] == df2['CustomerID'],\"left_anti\").select(\"name\").show()"
   ]
  },
  {
   "cell_type": "code",
   "execution_count": null,
   "id": "fc85d047",
   "metadata": {},
   "outputs": [],
   "source": []
  }
 ],
 "metadata": {
  "kernelspec": {
   "display_name": "Python 3 (ipykernel)",
   "language": "python",
   "name": "python3"
  },
  "language_info": {
   "codemirror_mode": {
    "name": "ipython",
    "version": 3
   },
   "file_extension": ".py",
   "mimetype": "text/x-python",
   "name": "python",
   "nbconvert_exporter": "python",
   "pygments_lexer": "ipython3",
   "version": "3.11.5"
  }
 },
 "nbformat": 4,
 "nbformat_minor": 5
}
