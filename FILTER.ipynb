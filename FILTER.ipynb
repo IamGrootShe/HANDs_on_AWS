{
 "cells": [
  {
   "cell_type": "code",
   "execution_count": 8,
   "id": "ec2bcd67",
   "metadata": {},
   "outputs": [],
   "source": [
    "from pyspark.sql import SparkSession\n",
    "from pyspark.sql.types import StructType,StructField,IntegerType,StringType"
   ]
  },
  {
   "cell_type": "code",
   "execution_count": 9,
   "id": "959fd818",
   "metadata": {},
   "outputs": [],
   "source": [
    "wether_schema = StructType([\n",
    "    StructField('id',IntegerType(),True),\n",
    "    StructField('recordDate',StringType(),True),\n",
    "    StructField('Temperature',IntegerType(),True)\n",
    "])\n",
    "\n",
    "weather_date  = [(1,'2015-01-01',10),(2,'2015-01-02',20),(3,'2015-01-03',30),(4,'2015-01-04',40)]"
   ]
  },
  {
   "cell_type": "code",
   "execution_count": 10,
   "id": "005792ab",
   "metadata": {},
   "outputs": [],
   "source": [
    "from pyspark.sql.window import Window"
   ]
  },
  {
   "cell_type": "code",
   "execution_count": 12,
   "id": "4bec360b",
   "metadata": {},
   "outputs": [],
   "source": [
    "spark = SparkSession.builder.getOrCreate()\n",
    "df = spark.createDataFrame(data =weather_date, schema = wether_schema )"
   ]
  },
  {
   "cell_type": "code",
   "execution_count": 13,
   "id": "e2c3b6bf",
   "metadata": {},
   "outputs": [
    {
     "name": "stdout",
     "output_type": "stream",
     "text": [
      "+---+----------+-----------+\n",
      "| id|recordDate|Temperature|\n",
      "+---+----------+-----------+\n",
      "|  1|2015-01-01|         10|\n",
      "|  2|2015-01-02|         20|\n",
      "|  3|2015-01-03|         30|\n",
      "|  4|2015-01-04|         40|\n",
      "+---+----------+-----------+\n",
      "\n"
     ]
    }
   ],
   "source": [
    "df.show()"
   ]
  },
  {
   "cell_type": "code",
   "execution_count": 18,
   "id": "3c1c82bc",
   "metadata": {},
   "outputs": [],
   "source": [
    "from pyspark.sql.functions import lag\n",
    "LagDF = df.withColumn(\"PrevTemp\",lag(df.Temperature).over(Window.orderBy(df.id)))"
   ]
  },
  {
   "cell_type": "code",
   "execution_count": 19,
   "id": "fba4e174",
   "metadata": {},
   "outputs": [
    {
     "name": "stdout",
     "output_type": "stream",
     "text": [
      "+---+----------+-----------+--------+\n",
      "| id|recordDate|Temperature|PrevTemp|\n",
      "+---+----------+-----------+--------+\n",
      "|  1|2015-01-01|         10|    NULL|\n",
      "|  2|2015-01-02|         20|      10|\n",
      "|  3|2015-01-03|         30|      20|\n",
      "|  4|2015-01-04|         40|      30|\n",
      "+---+----------+-----------+--------+\n",
      "\n"
     ]
    }
   ],
   "source": [
    "LagDF.show()"
   ]
  },
  {
   "cell_type": "code",
   "execution_count": 25,
   "id": "dd48ba6d",
   "metadata": {},
   "outputs": [
    {
     "name": "stdout",
     "output_type": "stream",
     "text": [
      "+---+----------+-----------+--------+\n",
      "| id|recordDate|Temperature|PrevTemp|\n",
      "+---+----------+-----------+--------+\n",
      "|  2|2015-01-02|         20|      10|\n",
      "|  3|2015-01-03|         30|      20|\n",
      "|  4|2015-01-04|         40|      30|\n",
      "+---+----------+-----------+--------+\n",
      "\n"
     ]
    }
   ],
   "source": [
    "LagDF.filter(LagDF.Temperature > LagDF.PrevTemp).show()"
   ]
  },
  {
   "cell_type": "code",
   "execution_count": 28,
   "id": "e790d4f9",
   "metadata": {},
   "outputs": [
    {
     "name": "stdout",
     "output_type": "stream",
     "text": [
      "+---+----------+-----------+--------+\n",
      "| id|recordDate|Temperature|PrevTemp|\n",
      "+---+----------+-----------+--------+\n",
      "|  1|2015-01-01|         10|    NULL|\n",
      "+---+----------+-----------+--------+\n",
      "\n"
     ]
    }
   ],
   "source": [
    "from pyspark.sql.functions import col\n",
    "LagDF.filter(col('PrevTemp').isNull()).show()"
   ]
  },
  {
   "cell_type": "code",
   "execution_count": null,
   "id": "b9d30224",
   "metadata": {},
   "outputs": [],
   "source": []
  }
 ],
 "metadata": {
  "kernelspec": {
   "display_name": "Python 3 (ipykernel)",
   "language": "python",
   "name": "python3"
  },
  "language_info": {
   "codemirror_mode": {
    "name": "ipython",
    "version": 3
   },
   "file_extension": ".py",
   "mimetype": "text/x-python",
   "name": "python",
   "nbconvert_exporter": "python",
   "pygments_lexer": "ipython3",
   "version": "3.11.5"
  }
 },
 "nbformat": 4,
 "nbformat_minor": 5
}
