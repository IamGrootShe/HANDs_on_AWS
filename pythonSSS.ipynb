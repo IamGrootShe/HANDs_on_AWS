{
 "cells": [
  {
   "cell_type": "code",
   "execution_count": 4,
   "id": "8101d0d9",
   "metadata": {},
   "outputs": [],
   "source": [
    "from pyspark.sql import SparkSession"
   ]
  },
  {
   "cell_type": "code",
   "execution_count": 5,
   "id": "f07394d2",
   "metadata": {},
   "outputs": [],
   "source": [
    "from pyspark.sql.types import StructType, StructField,IntegerType, StringType"
   ]
  },
  {
   "cell_type": "code",
   "execution_count": 6,
   "id": "60a4829d",
   "metadata": {},
   "outputs": [],
   "source": [
    "schema = StructType([StructField(\"ActorId\",IntegerType(),True),\n",
    "                    StructField(\"DirectorID\",IntegerType(),True),\n",
    "                    StructField(\"timestamp\",IntegerType(),True)])"
   ]
  },
  {
   "cell_type": "code",
   "execution_count": 7,
   "id": "8b27f37a",
   "metadata": {},
   "outputs": [],
   "source": [
    "data = [(1,1,0),(1,1,1),(1,2,0),(1,2,3),(2,3,4)]"
   ]
  },
  {
   "cell_type": "code",
   "execution_count": 11,
   "id": "45f4328c",
   "metadata": {},
   "outputs": [],
   "source": [
    "spark = SparkSession.builder.master(\"local\").getOrCreate()\n",
    "df = spark.createDataFrame(data = data, schema = schema)"
   ]
  },
  {
   "cell_type": "code",
   "execution_count": 12,
   "id": "e888f427",
   "metadata": {},
   "outputs": [
    {
     "name": "stdout",
     "output_type": "stream",
     "text": [
      "+-------+----------+---------+\n",
      "|ActorId|DirectorID|timestamp|\n",
      "+-------+----------+---------+\n",
      "|      1|         1|        0|\n",
      "|      1|         1|        1|\n",
      "|      1|         2|        0|\n",
      "|      1|         2|        3|\n",
      "|      2|         3|        4|\n",
      "+-------+----------+---------+\n",
      "\n"
     ]
    }
   ],
   "source": [
    "df.show()"
   ]
  },
  {
   "cell_type": "code",
   "execution_count": null,
   "id": "85912950",
   "metadata": {},
   "outputs": [],
   "source": []
  }
 ],
 "metadata": {
  "kernelspec": {
   "display_name": "Python 3 (ipykernel)",
   "language": "python",
   "name": "python3"
  },
  "language_info": {
   "codemirror_mode": {
    "name": "ipython",
    "version": 3
   },
   "file_extension": ".py",
   "mimetype": "text/x-python",
   "name": "python",
   "nbconvert_exporter": "python",
   "pygments_lexer": "ipython3",
   "version": "3.11.5"
  }
 },
 "nbformat": 4,
 "nbformat_minor": 5
}
