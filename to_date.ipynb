{
 "cells": [
  {
   "cell_type": "code",
   "execution_count": 1,
   "id": "5021b6e2",
   "metadata": {},
   "outputs": [],
   "source": [
    "from pyspark.sql import SparkSession"
   ]
  },
  {
   "cell_type": "code",
   "execution_count": 2,
   "id": "fd7c5b38",
   "metadata": {},
   "outputs": [],
   "source": [
    "spark = SparkSession.builder.appName(\"datedeal\").master(\"local\").getOrCreate()"
   ]
  },
  {
   "cell_type": "code",
   "execution_count": 15,
   "id": "d2a841d0",
   "metadata": {},
   "outputs": [],
   "source": [
    "orders_schema = 'order_id long, order_date string, cust_id long, order_status string'"
   ]
  },
  {
   "cell_type": "code",
   "execution_count": 7,
   "id": "4be274cb",
   "metadata": {},
   "outputs": [],
   "source": [
    "data = [(1,'2013-01-25', 11599, 'CLOSED'),(2,'2013-01-25', 256, 'PENDING_PAYMENT'),(3,'2013-01-25', 12111, 'COMPLETE'),\n",
    "       (4,'2013-01-25', 8827, 'CLOSED')]\n"
   ]
  },
  {
   "cell_type": "code",
   "execution_count": 18,
   "id": "95284cbf",
   "metadata": {},
   "outputs": [],
   "source": [
    "from pyspark.sql.functions import to_date\n",
    "df = spark.createDataFrame(data, schema = orders_schema)"
   ]
  },
  {
   "cell_type": "code",
   "execution_count": 21,
   "id": "89b2514a",
   "metadata": {},
   "outputs": [],
   "source": [
    "df_with_date  = df.withColumn(\"order_date\",to_date(df['order_date'],'yyyy-mm-dd'))"
   ]
  },
  {
   "cell_type": "code",
   "execution_count": 23,
   "id": "66a10e46",
   "metadata": {},
   "outputs": [
    {
     "data": {
      "text/plain": [
       "DataFrame[order_id: bigint, order_date: date, cust_id: bigint, order_status: string]"
      ]
     },
     "execution_count": 23,
     "metadata": {},
     "output_type": "execute_result"
    }
   ],
   "source": [
    "df_with_date"
   ]
  },
  {
   "cell_type": "code",
   "execution_count": null,
   "id": "23df865e",
   "metadata": {},
   "outputs": [],
   "source": []
  }
 ],
 "metadata": {
  "kernelspec": {
   "display_name": "Python 3 (ipykernel)",
   "language": "python",
   "name": "python3"
  },
  "language_info": {
   "codemirror_mode": {
    "name": "ipython",
    "version": 3
   },
   "file_extension": ".py",
   "mimetype": "text/x-python",
   "name": "python",
   "nbconvert_exporter": "python",
   "pygments_lexer": "ipython3",
   "version": "3.11.5"
  }
 },
 "nbformat": 4,
 "nbformat_minor": 5
}
