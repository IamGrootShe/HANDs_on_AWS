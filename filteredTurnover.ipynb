{
 "cells": [
  {
   "cell_type": "code",
   "execution_count": 17,
   "id": "4b88a76d",
   "metadata": {},
   "outputs": [],
   "source": [
    "from pyspark.sql import SparkSession "
   ]
  },
  {
   "cell_type": "code",
   "execution_count": 2,
   "id": "4646a769",
   "metadata": {},
   "outputs": [],
   "source": [
    "from pyspark.sql.types import StructType,StructField,IntegerType,StringType"
   ]
  },
  {
   "cell_type": "code",
   "execution_count": 4,
   "id": "e36a4238",
   "metadata": {},
   "outputs": [],
   "source": [
    "from pyspark.sql.window import Window\n",
    "from pyspark.sql import functions as F\n",
    "from pyspark.sql.functions import when"
   ]
  },
  {
   "cell_type": "code",
   "execution_count": 18,
   "id": "b567b84e",
   "metadata": {},
   "outputs": [],
   "source": [
    "spark = SparkSession.builder.master(\"local\").appName(\"Day2\").getOrCreate()"
   ]
  },
  {
   "cell_type": "code",
   "execution_count": 21,
   "id": "6e386662",
   "metadata": {},
   "outputs": [],
   "source": [
    "order_df = spark.read.format(\"csv\").option(\"header\",\"true\").option(\"inferschema\",\"true\").load(\"./orders/sales_data.csv\")"
   ]
  },
  {
   "cell_type": "code",
   "execution_count": 24,
   "id": "ec9974ac",
   "metadata": {},
   "outputs": [],
   "source": [
    "order_df.createOrReplaceTempView(\"orders\")"
   ]
  },
  {
   "cell_type": "code",
   "execution_count": 27,
   "id": "2aa3f1a1",
   "metadata": {},
   "outputs": [
    {
     "name": "stdout",
     "output_type": "stream",
     "text": [
      "+--------------------+-----------------+\n",
      "|             Product|      Product_ean|\n",
      "+--------------------+-----------------+\n",
      "|              iPhone|5.638008983335E12|\n",
      "|Lightning Chargin...|5.563319511488E12|\n",
      "|    Wired Headphones| 2.11397339522E12|\n",
      "|    27in FHD Monitor|3.069156759167E12|\n",
      "|    Wired Headphones|9.692680938163E12|\n",
      "+--------------------+-----------------+\n",
      "\n"
     ]
    }
   ],
   "source": [
    "spark.sql(\"select Product,Product_ean from orders limit 5\").show()"
   ]
  },
  {
   "cell_type": "code",
   "execution_count": 45,
   "id": "b5070913",
   "metadata": {},
   "outputs": [],
   "source": [
    "countingdf = order_df.head(5)"
   ]
  },
  {
   "cell_type": "code",
   "execution_count": 35,
   "id": "6bbbf5a5",
   "metadata": {},
   "outputs": [
    {
     "name": "stdout",
     "output_type": "stream",
     "text": [
      "+--------------------+-----+\n",
      "|             Product|count|\n",
      "+--------------------+-----+\n",
      "|USB-C Charging Cable|21903|\n",
      "|Lightning Chargin...|21658|\n",
      "|AAA Batteries (4-...|20641|\n",
      "|AA Batteries (4-p...|20577|\n",
      "|    Wired Headphones|18882|\n",
      "+--------------------+-----+\n",
      "\n"
     ]
    }
   ],
   "source": [
    "countingdf.sort(\"count\",ascending = False).limit(5).show()"
   ]
  },
  {
   "cell_type": "code",
   "execution_count": 41,
   "id": "77d6596b",
   "metadata": {},
   "outputs": [],
   "source": [
    "count_product = order_df.select(\"product\").distinct().count()"
   ]
  },
  {
   "cell_type": "code",
   "execution_count": 42,
   "id": "7320d0dc",
   "metadata": {},
   "outputs": [
    {
     "data": {
      "text/plain": [
       "int"
      ]
     },
     "execution_count": 42,
     "metadata": {},
     "output_type": "execute_result"
    }
   ],
   "source": [
    "count_product"
   ]
  },
  {
   "cell_type": "code",
   "execution_count": 47,
   "id": "d789f054",
   "metadata": {},
   "outputs": [
    {
     "name": "stdout",
     "output_type": "stream",
     "text": [
      "+-------------------+--------+--------------------+-----------------+------------+--------------------+----------------+----------+------------------+--------+--------+\n",
      "|         Order Date|Order ID|             Product|      Product_ean|   catégorie|    Purchase Address|Quantity Ordered|Price Each|        Cost price|turnover|  margin|\n",
      "+-------------------+--------+--------------------+-----------------+------------+--------------------+----------------+----------+------------------+--------+--------+\n",
      "|2019-01-22 21:25:00|  141234|              iPhone|5.638008983335E12|   Vêtements|944 Walnut St, Bo...|               1|     700.0|             231.0|   700.0|   469.0|\n",
      "|2019-01-28 14:15:00|  141235|Lightning Chargin...|5.563319511488E12|Alimentation|185 Maple St, Por...|               1|     14.95|             7.475|   14.95|   7.475|\n",
      "|2019-01-17 13:33:00|  141236|    Wired Headphones| 2.11397339522E12|   Vêtements|538 Adams St, San...|               2|     11.99|             5.995|   23.98|   11.99|\n",
      "|2019-01-05 20:33:00|  141237|    27in FHD Monitor|3.069156759167E12|      Sports|738 10th St, Los ...|               1|    149.99| 97.49350000000001|  149.99| 52.4965|\n",
      "|2019-01-25 11:59:00|  141238|    Wired Headphones|9.692680938163E12|Électronique|387 10th St, Aust...|               1|     11.99|             5.995|   11.99|   5.995|\n",
      "|2019-01-29 20:22:00|  141239|AAA Batteries (4-...|2.953868554188E12|Alimentation|775 Willow St, Sa...|               1|      2.99|             1.495|    2.99|   1.495|\n",
      "|2019-01-26 12:16:00|  141240|27in 4K Gaming Mo...|5.173670800988E12|   Vêtements|979 Park St, Los ...|               1|    389.99|128.69670000000002|  389.99|261.2933|\n",
      "|2019-01-05 12:04:00|  141241|USB-C Charging Cable|8.051736777568E12|   Vêtements|181 6th St, San F...|               1|     11.95|             5.975|   11.95|   5.975|\n",
      "|2019-01-01 10:30:00|  141242|Bose SoundSport H...|1.508418177978E12|Électronique|867 Willow St, Lo...|               1|     99.99|            49.995|   99.99|  49.995|\n",
      "|2019-01-22 21:20:00|  141243|Apple Airpods Hea...| 1.38634421159E12|Électronique|657 Johnson St, S...|               1|     150.0|              97.5|   150.0|    52.5|\n",
      "|2019-01-07 11:29:00|  141244|Apple Airpods Hea...|4.332898830865E12|   Vêtements|492 Walnut St, Sa...|               1|     150.0|              97.5|   150.0|    52.5|\n",
      "|2019-01-31 10:12:00|  141245|  Macbook Pro Laptop|1.169379570345E12|   Vêtements|322 6th St, San F...|               1|    1700.0|             561.0|  1700.0|  1139.0|\n",
      "|2019-01-09 18:57:00|  141246|AAA Batteries (4-...|4.436184749366E12|   Vêtements|618 7th St, Los A...|               3|      2.99|             1.495|    8.97|   4.485|\n",
      "|2019-01-25 19:19:00|  141247|    27in FHD Monitor|7.313825995563E12|   Vêtements|512 Wilson St, Sa...|               1|    149.99| 97.49350000000001|  149.99| 52.4965|\n",
      "|2019-01-03 21:54:00|  141248|       Flatscreen TV| 4.06275646306E12|Électronique|363 Spruce St, Au...|               1|     300.0|              99.0|   300.0|   201.0|\n",
      "|2019-01-05 17:20:00|  141249|    27in FHD Monitor|9.643428300795E12|Alimentation|440 Cedar St, Por...|               1|    149.99| 97.49350000000001|  149.99| 52.4965|\n",
      "|2019-01-10 11:20:00|  141250|     Vareebadd Phone|6.721780072847E12|Alimentation|471 Center St, Lo...|               1|     400.0|             132.0|   400.0|   268.0|\n",
      "|2019-01-24 08:13:00|  141251|Apple Airpods Hea...|2.700099961823E12|Alimentation|414 Walnut St, Bo...|               1|     150.0|              97.5|   150.0|    52.5|\n",
      "|2019-01-30 09:28:00|  141252|USB-C Charging Cable|3.692435232121E12|      Sports|220 9th St, Los A...|               1|     11.95|             5.975|   11.95|   5.975|\n",
      "|2019-01-17 00:09:00|  141253|AA Batteries (4-p...|6.741495725758E12|Alimentation|385 11th St, Atla...|               1|      3.84|              1.92|    3.84|    1.92|\n",
      "+-------------------+--------+--------------------+-----------------+------------+--------------------+----------------+----------+------------------+--------+--------+\n",
      "only showing top 20 rows\n",
      "\n"
     ]
    }
   ],
   "source": [
    "spark.sql(\"select * from orders\").show()"
   ]
  },
  {
   "cell_type": "code",
   "execution_count": 57,
   "id": "19dcea64",
   "metadata": {},
   "outputs": [],
   "source": [
    "from pyspark.sql.functions import col"
   ]
  },
  {
   "cell_type": "code",
   "execution_count": 65,
   "id": "df48166c",
   "metadata": {},
   "outputs": [],
   "source": [
    "turnover = order_df.filter(col('turnover') >= 150.0)"
   ]
  },
  {
   "cell_type": "code",
   "execution_count": 64,
   "id": "fb65026b",
   "metadata": {},
   "outputs": [
    {
     "name": "stdout",
     "output_type": "stream",
     "text": [
      "+--------+\n",
      "|turnover|\n",
      "+--------+\n",
      "|   700.0|\n",
      "|   14.95|\n",
      "|   23.98|\n",
      "|  149.99|\n",
      "|   11.99|\n",
      "|    2.99|\n",
      "|  389.99|\n",
      "|   11.95|\n",
      "|   99.99|\n",
      "|   150.0|\n",
      "|   150.0|\n",
      "|  1700.0|\n",
      "|    8.97|\n",
      "|  149.99|\n",
      "|   300.0|\n",
      "|  149.99|\n",
      "|   400.0|\n",
      "|   150.0|\n",
      "|   11.95|\n",
      "|    3.84|\n",
      "+--------+\n",
      "only showing top 20 rows\n",
      "\n"
     ]
    }
   ],
   "source": [
    "order_df.select(\"turnover\").show()"
   ]
  },
  {
   "cell_type": "code",
   "execution_count": 1,
   "id": "b4739347",
   "metadata": {},
   "outputs": [
    {
     "ename": "NameError",
     "evalue": "name 'turnover' is not defined",
     "output_type": "error",
     "traceback": [
      "\u001b[1;31m---------------------------------------------------------------------------\u001b[0m",
      "\u001b[1;31mNameError\u001b[0m                                 Traceback (most recent call last)",
      "Cell \u001b[1;32mIn[1], line 1\u001b[0m\n\u001b[1;32m----> 1\u001b[0m turnover\u001b[38;5;241m.\u001b[39mselect(\u001b[38;5;124m\"\u001b[39m\u001b[38;5;124mturnover\u001b[39m\u001b[38;5;124m\"\u001b[39m)\u001b[38;5;241m.\u001b[39mfilter(col(\u001b[38;5;124m\"\u001b[39m\u001b[38;5;124mturnover\u001b[39m\u001b[38;5;124m\"\u001b[39m) \u001b[38;5;241m>\u001b[39m \u001b[38;5;241m150\u001b[39m)\u001b[38;5;241m.\u001b[39mcount()\n",
      "\u001b[1;31mNameError\u001b[0m: name 'turnover' is not defined"
     ]
    }
   ],
   "source": [
    "turnover.select(\"turnover\").filter(col(\"turnover\") > 150).count()"
   ]
  },
  {
   "cell_type": "code",
   "execution_count": null,
   "id": "a3a8b34b",
   "metadata": {},
   "outputs": [],
   "source": []
  }
 ],
 "metadata": {
  "kernelspec": {
   "display_name": "Python 3 (ipykernel)",
   "language": "python",
   "name": "python3"
  },
  "language_info": {
   "codemirror_mode": {
    "name": "ipython",
    "version": 3
   },
   "file_extension": ".py",
   "mimetype": "text/x-python",
   "name": "python",
   "nbconvert_exporter": "python",
   "pygments_lexer": "ipython3",
   "version": "3.11.5"
  }
 },
 "nbformat": 4,
 "nbformat_minor": 5
}
